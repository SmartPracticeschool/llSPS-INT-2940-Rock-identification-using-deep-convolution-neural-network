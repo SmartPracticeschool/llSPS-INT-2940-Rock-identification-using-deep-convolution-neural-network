{
 "cells": [
  {
   "cell_type": "code",
   "execution_count": 1,
   "metadata": {},
   "outputs": [
    {
     "name": "stderr",
     "output_type": "stream",
     "text": [
      "Using TensorFlow backend.\n"
     ]
    }
   ],
   "source": [
    "import numpy as np\n",
    "from keras.preprocessing.image import ImageDataGenerator\n",
    "from keras.models import Sequential\n",
    "from keras.layers import Convolution2D,MaxPooling2D,Dense,Flatten,Dropout\n",
    "import matplotlib.pyplot as plt\n",
    "%matplotlib inline"
   ]
  },
  {
   "cell_type": "code",
   "execution_count": 200,
   "metadata": {},
   "outputs": [],
   "source": [
    "def mymod():\n",
    "    \n",
    "    model = Sequential()\n",
    "    \n",
    "    model.add(Convolution2D(32,(3,3),activation = 'relu',input_shape=(64,64,3)))\n",
    "    model.add(Convolution2D(32,(3,3),activation = 'relu'))\n",
    "    model.add(MaxPooling2D(2,2))\n",
    "    \n",
    "    model.add(Convolution2D(64,(3,3),activation = 'relu'))\n",
    "    model.add(Convolution2D(64,(3,3),activation = 'relu'))\n",
    "    model.add(MaxPooling2D(2,2))\n",
    "    \n",
    "    model.add(Convolution2D(128,(3,3),activation = 'relu',))\n",
    "    model.add(Convolution2D(128,(3,3),activation = 'relu'))\n",
    "    model.add(MaxPooling2D(2,2))\n",
    "    model.add(Dropout(0.2))\n",
    "    \n",
    "    model.add(Flatten())\n",
    "    model.add(Dense(128,activation = 'relu'))\n",
    "    model.add(Dropout(0.2))\n",
    "    model.add(Dense(7,activation = 'softmax'))\n",
    "    \n",
    "    model.compile(optimizer = 'adam', loss = 'categorical_crossentropy', metrics = ['accuracy'])\n",
    "    \n",
    "    return model\n",
    "    "
   ]
  },
  {
   "cell_type": "code",
   "execution_count": 201,
   "metadata": {},
   "outputs": [
    {
     "name": "stdout",
     "output_type": "stream",
     "text": [
      "Model: \"sequential_17\"\n",
      "_________________________________________________________________\n",
      "Layer (type)                 Output Shape              Param #   \n",
      "=================================================================\n",
      "conv2d_97 (Conv2D)           (None, 62, 62, 32)        896       \n",
      "_________________________________________________________________\n",
      "conv2d_98 (Conv2D)           (None, 60, 60, 32)        9248      \n",
      "_________________________________________________________________\n",
      "max_pooling2d_49 (MaxPooling (None, 30, 30, 32)        0         \n",
      "_________________________________________________________________\n",
      "conv2d_99 (Conv2D)           (None, 28, 28, 64)        18496     \n",
      "_________________________________________________________________\n",
      "conv2d_100 (Conv2D)          (None, 26, 26, 64)        36928     \n",
      "_________________________________________________________________\n",
      "max_pooling2d_50 (MaxPooling (None, 13, 13, 64)        0         \n",
      "_________________________________________________________________\n",
      "conv2d_101 (Conv2D)          (None, 11, 11, 128)       73856     \n",
      "_________________________________________________________________\n",
      "conv2d_102 (Conv2D)          (None, 9, 9, 128)         147584    \n",
      "_________________________________________________________________\n",
      "max_pooling2d_51 (MaxPooling (None, 4, 4, 128)         0         \n",
      "_________________________________________________________________\n",
      "dropout_32 (Dropout)         (None, 4, 4, 128)         0         \n",
      "_________________________________________________________________\n",
      "flatten_17 (Flatten)         (None, 2048)              0         \n",
      "_________________________________________________________________\n",
      "dense_32 (Dense)             (None, 128)               262272    \n",
      "_________________________________________________________________\n",
      "dropout_33 (Dropout)         (None, 128)               0         \n",
      "_________________________________________________________________\n",
      "dense_33 (Dense)             (None, 7)                 903       \n",
      "=================================================================\n",
      "Total params: 550,183\n",
      "Trainable params: 550,183\n",
      "Non-trainable params: 0\n",
      "_________________________________________________________________\n",
      "None\n"
     ]
    }
   ],
   "source": [
    "mod = mymod()\n",
    "print(mod.summary())"
   ]
  },
  {
   "cell_type": "code",
   "execution_count": 202,
   "metadata": {},
   "outputs": [],
   "source": [
    "trgen = ImageDataGenerator(rescale = 1./255,\n",
    "                           width_shift_range=0.3,\n",
    "                          height_shift_range=0.3,\n",
    "                          shear_range = 0.3,\n",
    "                          zoom_range = 0.3,\n",
    "                          horizontal_flip = True,\n",
    "                          rotation_range = 10)\n",
    "\n",
    "tegen = ImageDataGenerator(rescale = 1./255)"
   ]
  },
  {
   "cell_type": "code",
   "execution_count": 203,
   "metadata": {},
   "outputs": [
    {
     "name": "stdout",
     "output_type": "stream",
     "text": [
      "Found 490 images belonging to 7 classes.\n"
     ]
    }
   ],
   "source": [
    "x_train = trgen.flow_from_directory('C:/Users/Prathmesh/Documents/Rsip_dataset/Training_Set',\n",
    "                                   target_size = (64,64),\n",
    "                                   batch_size = 32,\n",
    "                                   class_mode = 'categorical')"
   ]
  },
  {
   "cell_type": "code",
   "execution_count": 204,
   "metadata": {},
   "outputs": [
    {
     "name": "stdout",
     "output_type": "stream",
     "text": [
      "Found 210 images belonging to 7 classes.\n"
     ]
    }
   ],
   "source": [
    "x_test = tegen.flow_from_directory('C:/Users/Prathmesh/Documents/Rsip_dataset/Testing_Set',\n",
    "                                  target_size = (64,64),\n",
    "                                  batch_size = 32,\n",
    "                                  class_mode = 'categorical')"
   ]
  },
  {
   "cell_type": "code",
   "execution_count": 205,
   "metadata": {},
   "outputs": [
    {
     "data": {
      "text/plain": [
       "{'Conglomerate': 0,\n",
       " 'Diorate': 1,\n",
       " 'Fire opal': 2,\n",
       " 'Genisis': 3,\n",
       " 'Limestone': 4,\n",
       " 'Obsidian': 5,\n",
       " 'Slate': 6}"
      ]
     },
     "execution_count": 205,
     "metadata": {},
     "output_type": "execute_result"
    }
   ],
   "source": [
    "x_train.class_indices"
   ]
  },
  {
   "cell_type": "code",
   "execution_count": null,
   "metadata": {},
   "outputs": [],
   "source": []
  },
  {
   "cell_type": "code",
   "execution_count": 206,
   "metadata": {},
   "outputs": [
    {
     "name": "stdout",
     "output_type": "stream",
     "text": [
      "Epoch 1/50\n",
      "120/120 [==============================] - 25s 209ms/step - loss: 1.7002 - accuracy: 0.2647 - val_loss: 1.4722 - val_accuracy: 0.3905\n",
      "Epoch 2/50\n",
      "120/120 [==============================] - 15s 121ms/step - loss: 1.5647 - accuracy: 0.3264 - val_loss: 1.2029 - val_accuracy: 0.4933\n",
      "Epoch 3/50\n",
      "120/120 [==============================] - 14s 118ms/step - loss: 1.3833 - accuracy: 0.4506 - val_loss: 1.2392 - val_accuracy: 0.4916\n",
      "Epoch 4/50\n",
      "120/120 [==============================] - 14s 118ms/step - loss: 1.1384 - accuracy: 0.5499 - val_loss: 1.6351 - val_accuracy: 0.5067\n",
      "Epoch 5/50\n",
      "120/120 [==============================] - 14s 118ms/step - loss: 1.0627 - accuracy: 0.5882 - val_loss: 2.3085 - val_accuracy: 0.5418\n",
      "Epoch 6/50\n",
      "120/120 [==============================] - 14s 120ms/step - loss: 0.9876 - accuracy: 0.6118 - val_loss: 1.6826 - val_accuracy: 0.5702\n",
      "Epoch 7/50\n",
      "120/120 [==============================] - 14s 117ms/step - loss: 0.9162 - accuracy: 0.6375 - val_loss: 2.1580 - val_accuracy: 0.5736\n",
      "Epoch 8/50\n",
      "120/120 [==============================] - 14s 119ms/step - loss: 0.9228 - accuracy: 0.6452 - val_loss: 0.8264 - val_accuracy: 0.5752\n",
      "Epoch 9/50\n",
      "120/120 [==============================] - 14s 118ms/step - loss: 0.8635 - accuracy: 0.6620 - val_loss: 0.7389 - val_accuracy: 0.6120\n",
      "Epoch 10/50\n",
      "120/120 [==============================] - 14s 120ms/step - loss: 0.8098 - accuracy: 0.6820 - val_loss: 1.2347 - val_accuracy: 0.5803\n",
      "Epoch 11/50\n",
      "120/120 [==============================] - 14s 118ms/step - loss: 0.7869 - accuracy: 0.6867 - val_loss: 0.5316 - val_accuracy: 0.6037\n",
      "Epoch 12/50\n",
      "120/120 [==============================] - 23s 193ms/step - loss: 0.7991 - accuracy: 0.6864 - val_loss: 0.5626 - val_accuracy: 0.6221\n",
      "Epoch 13/50\n",
      "120/120 [==============================] - 14s 117ms/step - loss: 0.7561 - accuracy: 0.7016 - val_loss: 2.4067 - val_accuracy: 0.6706\n",
      "Epoch 14/50\n",
      "120/120 [==============================] - 14s 119ms/step - loss: 0.7668 - accuracy: 0.6960 - val_loss: 1.6813 - val_accuracy: 0.6221\n",
      "Epoch 15/50\n",
      "120/120 [==============================] - 14s 116ms/step - loss: 0.7253 - accuracy: 0.7183 - val_loss: 1.5024 - val_accuracy: 0.5784\n",
      "Epoch 16/50\n",
      "120/120 [==============================] - 14s 121ms/step - loss: 0.7045 - accuracy: 0.7230 - val_loss: 1.1409 - val_accuracy: 0.6187\n",
      "Epoch 17/50\n",
      "120/120 [==============================] - 14s 118ms/step - loss: 0.7112 - accuracy: 0.7222 - val_loss: 1.8957 - val_accuracy: 0.5936\n",
      "Epoch 18/50\n",
      "120/120 [==============================] - 14s 120ms/step - loss: 0.6480 - accuracy: 0.7499 - val_loss: 2.1423 - val_accuracy: 0.6338\n",
      "Epoch 19/50\n",
      "120/120 [==============================] - 14s 118ms/step - loss: 0.6235 - accuracy: 0.7505 - val_loss: 1.1942 - val_accuracy: 0.6104\n",
      "Epoch 20/50\n",
      "120/120 [==============================] - 14s 119ms/step - loss: 0.6132 - accuracy: 0.7499 - val_loss: 0.7289 - val_accuracy: 0.6522\n",
      "Epoch 21/50\n",
      "120/120 [==============================] - 14s 116ms/step - loss: 0.5788 - accuracy: 0.7689 - val_loss: 1.5609 - val_accuracy: 0.6154\n",
      "Epoch 22/50\n",
      "120/120 [==============================] - 14s 118ms/step - loss: 0.5809 - accuracy: 0.7797 - val_loss: 0.9314 - val_accuracy: 0.6307\n",
      "Epoch 23/50\n",
      "120/120 [==============================] - 14s 118ms/step - loss: 0.5566 - accuracy: 0.7838 - val_loss: 1.5958 - val_accuracy: 0.6355\n",
      "Epoch 24/50\n",
      "120/120 [==============================] - 15s 123ms/step - loss: 0.5728 - accuracy: 0.7787 - val_loss: 1.5612 - val_accuracy: 0.6555\n",
      "Epoch 25/50\n",
      "120/120 [==============================] - 65s 543ms/step - loss: 0.5598 - accuracy: 0.7866 - val_loss: 1.5037 - val_accuracy: 0.6455\n",
      "Epoch 26/50\n",
      "120/120 [==============================] - 37s 310ms/step - loss: 0.5142 - accuracy: 0.7984 - val_loss: 1.6802 - val_accuracy: 0.6321\n",
      "Epoch 27/50\n",
      "120/120 [==============================] - 27s 226ms/step - loss: 0.5286 - accuracy: 0.7986 - val_loss: 2.4460 - val_accuracy: 0.6254\n",
      "Epoch 28/50\n",
      "120/120 [==============================] - 14s 120ms/step - loss: 0.4853 - accuracy: 0.8158 - val_loss: 2.1693 - val_accuracy: 0.6288\n",
      "Epoch 29/50\n",
      "120/120 [==============================] - 14s 116ms/step - loss: 0.4844 - accuracy: 0.8114 - val_loss: 3.0179 - val_accuracy: 0.6716\n",
      "Epoch 30/50\n",
      "120/120 [==============================] - 15s 121ms/step - loss: 0.4400 - accuracy: 0.8324 - val_loss: 2.7951 - val_accuracy: 0.7425\n",
      "Epoch 31/50\n",
      "120/120 [==============================] - 14s 118ms/step - loss: 0.4307 - accuracy: 0.8319 - val_loss: 2.1206 - val_accuracy: 0.6020\n",
      "Epoch 32/50\n",
      "120/120 [==============================] - 14s 119ms/step - loss: 0.4275 - accuracy: 0.8361 - val_loss: 2.3191 - val_accuracy: 0.6990\n",
      "Epoch 33/50\n",
      "120/120 [==============================] - 14s 118ms/step - loss: 0.4463 - accuracy: 0.8307 - val_loss: 2.4556 - val_accuracy: 0.6522\n",
      "Epoch 34/50\n",
      "120/120 [==============================] - 14s 120ms/step - loss: 0.4331 - accuracy: 0.8283 - val_loss: 1.2491 - val_accuracy: 0.6789\n",
      "Epoch 35/50\n",
      "120/120 [==============================] - 14s 116ms/step - loss: 0.3866 - accuracy: 0.8483 - val_loss: 0.5384 - val_accuracy: 0.6488\n",
      "Epoch 36/50\n",
      "120/120 [==============================] - 14s 118ms/step - loss: 0.3931 - accuracy: 0.8451 - val_loss: 1.2565 - val_accuracy: 0.6307\n",
      "Epoch 37/50\n",
      "120/120 [==============================] - 15s 121ms/step - loss: 0.4458 - accuracy: 0.8294 - val_loss: 3.5959 - val_accuracy: 0.6321\n",
      "Epoch 38/50\n",
      "120/120 [==============================] - 15s 124ms/step - loss: 0.3698 - accuracy: 0.8600 - val_loss: 3.4033 - val_accuracy: 0.6923\n",
      "Epoch 39/50\n",
      "120/120 [==============================] - 14s 118ms/step - loss: 0.3917 - accuracy: 0.8508 - val_loss: 1.7077 - val_accuracy: 0.6572\n",
      "Epoch 40/50\n",
      "120/120 [==============================] - 14s 120ms/step - loss: 0.3956 - accuracy: 0.8444 - val_loss: 1.3633 - val_accuracy: 0.6154\n",
      "Epoch 41/50\n",
      "120/120 [==============================] - 14s 118ms/step - loss: 0.3613 - accuracy: 0.8635 - val_loss: 1.1907 - val_accuracy: 0.6589\n",
      "Epoch 42/50\n",
      "120/120 [==============================] - 14s 120ms/step - loss: 0.3397 - accuracy: 0.8665 - val_loss: 1.8446 - val_accuracy: 0.6438\n",
      "Epoch 43/50\n",
      "120/120 [==============================] - 15s 125ms/step - loss: 0.3385 - accuracy: 0.8700 - val_loss: 2.1787 - val_accuracy: 0.6618\n",
      "Epoch 44/50\n",
      "120/120 [==============================] - 15s 121ms/step - loss: 0.3240 - accuracy: 0.8758 - val_loss: 5.5760 - val_accuracy: 0.6271\n",
      "Epoch 45/50\n",
      "120/120 [==============================] - 14s 118ms/step - loss: 0.3138 - accuracy: 0.8817 - val_loss: 2.0546 - val_accuracy: 0.6789\n",
      "Epoch 46/50\n",
      "120/120 [==============================] - 15s 123ms/step - loss: 0.3115 - accuracy: 0.8835 - val_loss: 3.7508 - val_accuracy: 0.6555\n",
      "Epoch 47/50\n",
      "120/120 [==============================] - 15s 124ms/step - loss: 0.3281 - accuracy: 0.8768 - val_loss: 1.9084 - val_accuracy: 0.6321\n",
      "Epoch 48/50\n",
      "120/120 [==============================] - 14s 120ms/step - loss: 0.3336 - accuracy: 0.8785 - val_loss: 1.8882 - val_accuracy: 0.6538\n",
      "Epoch 49/50\n",
      "120/120 [==============================] - 14s 117ms/step - loss: 0.2614 - accuracy: 0.8964 - val_loss: 1.3048 - val_accuracy: 0.6656\n",
      "Epoch 50/50\n",
      "120/120 [==============================] - 14s 119ms/step - loss: 0.2424 - accuracy: 0.9094 - val_loss: 1.9471 - val_accuracy: 0.7042\n"
     ]
    }
   ],
   "source": [
    "history = mod.fit(x_train,\n",
    "                 steps_per_epoch = 120,\n",
    "                 epochs = 50,\n",
    "                 validation_data = x_test,\n",
    "                 validation_steps = 20)"
   ]
  },
  {
   "cell_type": "code",
   "execution_count": 207,
   "metadata": {},
   "outputs": [
    {
     "name": "stdout",
     "output_type": "stream",
     "text": [
      "7/7 [==============================] - 2s 310ms/step\n"
     ]
    }
   ],
   "source": [
    "score = mod.evaluate(x_test)"
   ]
  },
  {
   "cell_type": "code",
   "execution_count": 208,
   "metadata": {},
   "outputs": [
    {
     "name": "stdout",
     "output_type": "stream",
     "text": [
      "loss 0.9496533870697021\n",
      "accuracy 0.7095237970352173\n"
     ]
    }
   ],
   "source": [
    "print('loss',score[0])\n",
    "print('accuracy',score[1])"
   ]
  },
  {
   "cell_type": "code",
   "execution_count": 209,
   "metadata": {},
   "outputs": [
    {
     "data": {
      "text/plain": [
       "Text(0, 0.5, 'loss')"
      ]
     },
     "execution_count": 209,
     "metadata": {},
     "output_type": "execute_result"
    },
    {
     "data": {
      "image/png": "[encoded data removed]",
      "text/plain": [
       "<Figure size 432x288 with 1 Axes>"
      ]
     },
     "metadata": {
      "needs_background": "light"
     },
     "output_type": "display_data"
    }
   ],
   "source": [
    "plt.figure(0)\n",
    "plt.plot(history.history['loss'],'r')\n",
    "plt.plot(history.history['val_loss'],'b')\n",
    "plt.xlabel('epochs')\n",
    "plt.ylabel('loss')"
   ]
  },
  {
   "cell_type": "code",
   "execution_count": 210,
   "metadata": {},
   "outputs": [
    {
     "data": {
      "text/plain": [
       "Text(0, 0.5, 'loss')"
      ]
     },
     "execution_count": 210,
     "metadata": {},
     "output_type": "execute_result"
    },
    {
     "data": {
      "image/png": "[encoded data removed]",
      "text/plain": [
       "<Figure size 432x288 with 1 Axes>"
      ]
     },
     "metadata": {
      "needs_background": "light"
     },
     "output_type": "display_data"
    }
   ],
   "source": [
    "plt.figure(0)\n",
    "plt.plot(history.history['accuracy'],'r')\n",
    "plt.plot(history.history['val_accuracy'],'b')\n",
    "plt.xlabel('epochs')\n",
    "plt.ylabel('accuracy')"
   ]
  },
  {
   "cell_type": "code",
   "execution_count": 211,
   "metadata": {},
   "outputs": [],
   "source": [
    "mod.save('trained.h5')"
   ]
  }
 ],
 "metadata": {
  "kernelspec": {
   "display_name": "Python 3",
   "language": "python",
   "name": "python3"
  },
  "language_info": {
   "codemirror_mode": {
    "name": "ipython",
    "version": 3
   },
   "file_extension": ".py",
   "mimetype": "text/x-python",
   "name": "python",
   "nbconvert_exporter": "python",
   "pygments_lexer": "ipython3",
   "version": "3.7.6"
  }
 },
 "nbformat": 4,
 "nbformat_minor": 4
}
